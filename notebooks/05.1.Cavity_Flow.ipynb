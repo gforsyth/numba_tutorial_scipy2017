{
 "cells": [
  {
   "cell_type": "markdown",
   "metadata": {},
   "source": [
    "# Application: Cavity Flow"
   ]
  },
  {
   "cell_type": "markdown",
   "metadata": {},
   "source": [
    "One of the most common validation cases in CFD is the lid-driven cavity flow.  We take a square cavity filled with a fluid and set the velocity of the lid to some constant value.  The flow within the cavity is driven by the lid, a spiral flow pattern develops and two distinctive pressure zones are visible in the upper corners against the lid."
   ]
  },
  {
   "cell_type": "markdown",
   "metadata": {},
   "source": [
    "<img src='./figures/drivencavity.svg' width=350>"
   ]
  },
  {
   "cell_type": "code",
   "execution_count": null,
   "metadata": {},
   "outputs": [],
   "source": [
    "import numpy"
   ]
  },
  {
   "cell_type": "markdown",
   "metadata": {},
   "source": [
    "The Poisson equation is an elliptic PDE which almost always means using an iterative solver.  We're going to use the Jacobi method.  There are better ways, but that's beside the point.  \n",
    "\n",
    "Here's the pressure Poisson equation:"
   ]
  },
  {
   "cell_type": "markdown",
   "metadata": {},
   "source": [
    "\\begin{align}\n",
    "p_{i,j}^{n+1} &= \\frac{1}{4}\\left(p_{i+1,j}^{n}+p_{i-1,j}^{n}+p_{i,j+1}^{n}+p_{i,j-1}^{n}\\right) \\\\\n",
    "&-\\frac{\\rho \\Delta x}{16} \\left( \\frac{2}{\\Delta t} \\left(u_{i+1,j} - u_{i-1,j} + v_{i,j+1} - v_{i,j-1}\\right) \\right . \\\\\n",
    "&-\\frac{2}{\\Delta x}\\left(u_{i,j+1} - u_{i,j-1} \\right) \\left(v_{i+1,j} - v_{i-1,j} \\right) \\\\\n",
    "&- \\left . \\frac{\\left(u_{i+1,j} - u_{i-1,j} \\right)^2}{\\Delta x} \n",
    "- \\frac{ \\left(v_{i,j+1} - v_{i,j-1} \\right)^2 }{\\Delta x} \\right) \\\\\n",
    "\\end{align}"
   ]
  },
  {
   "cell_type": "markdown",
   "metadata": {},
   "source": [
    "That looks a little nasty, but we only care about the top line when we iterate, since the bottom three lines depend only on values that don't change when we're correcting the pressure field.  Because it doesn't change, we break it out into a separate function."
   ]
  },
  {
   "cell_type": "code",
   "execution_count": null,
   "metadata": {},
   "outputs": [],
   "source": [
    "def velocity_term(b, rho, dt, u, v, dx):\n",
    "    b[1:-1, 1:-1] = (\n",
    "        rho * dx / 16 * \n",
    "        (2 / dt * (u[2:, 1:-1] - \n",
    "                   u[:-2, 1:-1] + \n",
    "                   v[1:-1, 2:] - \n",
    "                   v[1:-1, :-2]) - \n",
    "        2 / dx * (u[1:-1, 2:] - u[1:-1, :-2]) *\n",
    "                 (v[2:, 1:-1] - v[:-2, 1:-1]) - \n",
    "        (u[2:, 1:-1] - u[:-2, 1:-1])**2 / dx - \n",
    "        (v[1:-1, 2:] - v[1:-1, :-2])**2 / dx)\n",
    "                     )\n",
    "\n",
    "    return b"
   ]
  },
  {
   "cell_type": "markdown",
   "metadata": {},
   "source": [
    "Now, to calculate the pressure field, we pass in the original pressure field, the value `b` (which is the result of the `velocity_term` function above) and a target value for difference between two iterates.  We repeatedly update the pressure field until the difference of the L2 norm between two successive iterations is less than that target value."
   ]
  },
  {
   "cell_type": "code",
   "execution_count": null,
   "metadata": {},
   "outputs": [],
   "source": [
    "def pressure_poisson(p, b, l2_target):\n",
    "    iter_diff = l2_target + 1\n",
    "    n = 0\n",
    "    while iter_diff > l2_target and n <= 500:\n",
    "\n",
    "        pn = p.copy()\n",
    "        p[1:-1,1:-1] = (.25 * (pn[2:, 1:-1] +\n",
    "                               pn[:-2, 1:-1] +\n",
    "                               pn[1:-1, 2:] +\n",
    "                               pn[1:-1, :-2]) -\n",
    "                               b[1:-1, 1:-1])\n",
    "\n",
    "        p[:, 0] = p[:, 1]   #dp/dy = 0 at y = 0\n",
    "        p[:, -1] = 0        #p = 0 at y = 2\n",
    "        p[0, :] = p[1, :]   #dp/dx = 0 at x = 0\n",
    "        p[-1, :] = p[-2, :] #dp/dy = 0 at x = 2\n",
    "      \n",
    "        \n",
    "        if n % 10 == 0:\n",
    "            iter_diff = numpy.sqrt(numpy.sum((p - pn)**2)/numpy.sum(pn**2))\n",
    "                    \n",
    "        n += 1\n",
    "        \n",
    "    return p"
   ]
  },
  {
   "cell_type": "markdown",
   "metadata": {},
   "source": [
    "In the interests of brevity, we're only going to worry about the pressure Poisson solver.  The rest of the 2D Navier-Stokes solution is encapsulated in the function `cavity_flow`, which we've prepared ahead of time and saved in a helper file. We just need to import the function:"
   ]
  },
  {
   "cell_type": "code",
   "execution_count": null,
   "metadata": {},
   "outputs": [],
   "source": [
    "from snippets.ns_helper import cavity_flow"
   ]
  },
  {
   "cell_type": "markdown",
   "metadata": {},
   "source": [
    "We'll also load up [pickled](https://docs.python.org/2/library/pickle.html) initial conditions, so we can reliably compare final solutions."
   ]
  },
  {
   "cell_type": "code",
   "execution_count": null,
   "metadata": {},
   "outputs": [],
   "source": [
    "import pickle"
   ]
  },
  {
   "cell_type": "code",
   "execution_count": null,
   "metadata": {},
   "outputs": [],
   "source": [
    "def run_cavity():\n",
    "    nx = 41\n",
    "    ny = 41\n",
    "    with open('IC.pickle', 'rb') as f:\n",
    "        u, v, p, b = pickle.load(f)\n",
    "\n",
    "    dx = 2 / (nx - 1)\n",
    "    dt = .005\n",
    "    nt = 1000\n",
    "    \n",
    "    u, v, p = cavity_flow(u, v, p, nt, dt, dx, \n",
    "                         velocity_term, \n",
    "                         pressure_poisson, \n",
    "                         rtol=1e-4)\n",
    "    \n",
    "    return u, v, p"
   ]
  },
  {
   "cell_type": "markdown",
   "metadata": {},
   "source": [
    "So what does this all do?  Let's check it out."
   ]
  },
  {
   "cell_type": "code",
   "execution_count": null,
   "metadata": {},
   "outputs": [],
   "source": [
    "u, v, p = run_cavity()"
   ]
  },
  {
   "cell_type": "code",
   "execution_count": null,
   "metadata": {},
   "outputs": [],
   "source": [
    "%matplotlib inline\n",
    "from snippets.ns_helper import quiver_plot"
   ]
  },
  {
   "cell_type": "code",
   "execution_count": null,
   "metadata": {},
   "outputs": [],
   "source": [
    "quiver_plot(u, v, p)"
   ]
  },
  {
   "cell_type": "markdown",
   "metadata": {},
   "source": [
    "#### Save NumPy answers for comparison"
   ]
  },
  {
   "cell_type": "code",
   "execution_count": null,
   "metadata": {},
   "outputs": [],
   "source": [
    "with open('numpy_ans.pickle', 'wb') as f:\n",
    "    pickle.dump((u, v, p), f)"
   ]
  },
  {
   "cell_type": "markdown",
   "metadata": {},
   "source": [
    "Let's profile the `cavity_flow` function and see if there's a specific place that's really hurting our performance."
   ]
  },
  {
   "cell_type": "code",
   "execution_count": null,
   "metadata": {},
   "outputs": [],
   "source": [
    "%timeit run_cavity()"
   ]
  },
  {
   "cell_type": "code",
   "execution_count": null,
   "metadata": {},
   "outputs": [],
   "source": [
    "%load_ext line_profiler"
   ]
  },
  {
   "cell_type": "code",
   "execution_count": null,
   "metadata": {},
   "outputs": [],
   "source": [
    "%lprun -f cavity_flow run_cavity()"
   ]
  },
  {
   "cell_type": "markdown",
   "metadata": {},
   "source": [
    "## Where is the bottleneck?"
   ]
  },
  {
   "cell_type": "markdown",
   "metadata": {},
   "source": [
    "Clearly the PPE is the problem here, so let's use `numba` to rewrite it.  \n",
    "\n",
    "## [Exercise: Speed up the PPE](./exercises/05.Cavity.Flow.Exercises.ipynb#Exercise-1)"
   ]
  },
  {
   "cell_type": "code",
   "execution_count": null,
   "metadata": {},
   "outputs": [],
   "source": [
    "from numba import jit"
   ]
  },
  {
   "cell_type": "code",
   "execution_count": null,
   "metadata": {},
   "outputs": [],
   "source": [
    "# %load snippets/ppe_numba.py"
   ]
  },
  {
   "cell_type": "code",
   "execution_count": null,
   "metadata": {},
   "outputs": [],
   "source": [
    "u_numba, v_numba, p_numba = run_cavity()"
   ]
  },
  {
   "cell_type": "code",
   "execution_count": null,
   "metadata": {},
   "outputs": [],
   "source": [
    "assert numpy.allclose(p, p_numba)\n",
    "assert numpy.allclose(u, u_numba)\n",
    "assert numpy.allclose(v, v_numba)"
   ]
  },
  {
   "cell_type": "code",
   "execution_count": null,
   "metadata": {
    "scrolled": true
   },
   "outputs": [],
   "source": [
    "quiver_plot(u_numba, v_numba, p_numba)"
   ]
  },
  {
   "cell_type": "code",
   "execution_count": null,
   "metadata": {},
   "outputs": [],
   "source": [
    "%timeit run_cavity()"
   ]
  },
  {
   "cell_type": "code",
   "execution_count": null,
   "metadata": {},
   "outputs": [],
   "source": [
    "%lprun -f cavity_flow run_cavity()"
   ]
  },
  {
   "cell_type": "markdown",
   "metadata": {},
   "source": [
    "## One more bit of optimization?"
   ]
  },
  {
   "cell_type": "code",
   "execution_count": null,
   "metadata": {},
   "outputs": [],
   "source": [
    "@jit(nopython=True)\n",
    "def velocity_term(b, rho, dt, u, v, dx):\n",
    "    I, J = b.shape\n",
    "    \n",
    "    for i in range(1, I):\n",
    "        for j in range(1, J):\n",
    "            b[i, j] = (\n",
    "            rho * dx / 16 * \n",
    "            (2 / dt * (u[i + 1, j] - \n",
    "                      u[i - 1, j] + \n",
    "                      v[i, j + 1] - \n",
    "                      v[i, j - 1]) - \n",
    "            2 / dx * (u[i, j + 1] - u[i, j - 1]) * \n",
    "                     (v[i + 1, j] - v[i - 1, j]) - \n",
    "            (u[i + 1, j] - u[i - 1, j])**2 / dx - \n",
    "            (v[i, j + 1] - v[i, j - 1])**2 / dx)\n",
    "            )\n",
    "    return b"
   ]
  },
  {
   "cell_type": "markdown",
   "metadata": {},
   "source": [
    "## Or be lazy...?"
   ]
  },
  {
   "cell_type": "code",
   "execution_count": null,
   "metadata": {},
   "outputs": [],
   "source": [
    "from numba import njit"
   ]
  },
  {
   "cell_type": "code",
   "execution_count": null,
   "metadata": {},
   "outputs": [],
   "source": [
    "@njit\n",
    "def pressure_poisson(p, b, l2_target):\n",
    "    iter_diff = l2_target + 1\n",
    "    n = 0\n",
    "    while iter_diff > l2_target and n <= 500:\n",
    "\n",
    "        pn = p.copy()\n",
    "        p[1:-1,1:-1] = (.25 * (pn[2:, 1:-1] +\n",
    "                               pn[:-2, 1:-1] +\n",
    "                               pn[1:-1, 2:] +\n",
    "                               pn[1:-1, :-2]) -\n",
    "                               b[1:-1, 1:-1])\n",
    "\n",
    "        p[:, 0] = p[:, 1]   #dp/dy = 0 at y = 0\n",
    "        p[:, -1] = 0        #p = 0 at y = 2\n",
    "        p[0, :] = p[1, :]   #dp/dx = 0 at x = 0\n",
    "        p[-1, :] = p[-2, :] #dp/dy = 0 at x = 2\n",
    "      \n",
    "        \n",
    "        if n % 10 == 0:\n",
    "            iter_diff = numpy.sqrt(numpy.sum((p - pn)**2)/numpy.sum(pn**2))\n",
    "                    \n",
    "        n += 1\n",
    "        \n",
    "    return p"
   ]
  },
  {
   "cell_type": "code",
   "execution_count": null,
   "metadata": {},
   "outputs": [],
   "source": [
    "u_numba_lazy, v_numba_lazy, p_numba_lazy = run_cavity()"
   ]
  },
  {
   "cell_type": "code",
   "execution_count": null,
   "metadata": {},
   "outputs": [],
   "source": [
    "assert numpy.allclose(p, p_numba_lazy)\n",
    "assert numpy.allclose(u, u_numba_lazy)\n",
    "assert numpy.allclose(v, v_numba_lazy)"
   ]
  },
  {
   "cell_type": "code",
   "execution_count": null,
   "metadata": {},
   "outputs": [],
   "source": [
    "%timeit run_cavity()"
   ]
  }
 ],
 "metadata": {
  "kernelspec": {
   "display_name": "Python 3",
   "language": "python",
   "name": "python3"
  },
  "language_info": {
   "codemirror_mode": {
    "name": "ipython",
    "version": 3
   },
   "file_extension": ".py",
   "mimetype": "text/x-python",
   "name": "python",
   "nbconvert_exporter": "python",
   "pygments_lexer": "ipython3",
   "version": "3.6.6"
  }
 },
 "nbformat": 4,
 "nbformat_minor": 1
}
